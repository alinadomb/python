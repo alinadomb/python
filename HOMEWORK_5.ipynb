{
 "cells": [
  {
   "cell_type": "code",
   "execution_count": 10,
   "metadata": {},
   "outputs": [],
   "source": [
    "from collections import defaultdict \n",
    "import sys\n",
    "import os"
   ]
  },
  {
   "cell_type": "code",
   "execution_count": null,
   "metadata": {},
   "outputs": [],
   "source": [
    "adress = '/home/alex/Downloads/PYTHON/orders.txt'"
   ]
  },
  {
   "cell_type": "code",
   "execution_count": 7,
   "metadata": {},
   "outputs": [
    {
     "name": "stdout",
     "output_type": "stream",
     "text": [
      "Total orders:  131209\n",
      "8\n"
     ]
    }
   ],
   "source": [
    "with open(adress, 'r') as f:\n",
    "    data = f.read().split('\\n\\n')\n",
    "    \n",
    "orders = [order.split('@@@') for order in data]\n",
    "\n",
    "print('Total orders: ', len(orders))\n",
    "print(len(orders[0 ]))"
   ]
  },
  {
   "cell_type": "code",
   "execution_count": 21,
   "metadata": {},
   "outputs": [
    {
     "data": {
      "text/plain": [
       "<enumerate at 0x7f1058dad840>"
      ]
     },
     "execution_count": 21,
     "metadata": {},
     "output_type": "execute_result"
    }
   ],
   "source": [
    "enumerate(orders[0:1])"
   ]
  },
  {
   "cell_type": "code",
   "execution_count": 11,
   "metadata": {},
   "outputs": [
    {
     "name": "stdout",
     "output_type": "stream",
     "text": [
      "39123\n"
     ]
    }
   ],
   "source": [
    "count_of_product = defaultdict(lambda: 0)\n",
    "count_of_pair = defaultdict(int)\n",
    "\n",
    "for order in orders:\n",
    "    for p in order:\n",
    "        count_of_product[p] += 1\n",
    "    for i, p1 in enumerate(order[::-1]):\n",
    "        for p2 in order[i + 1:]:\n",
    "            count_of_pair[(p1, p2)] += 1\n",
    "            count_of_pair[(p2, p1)] += 1\n",
    "\n",
    "print(len(count_of_product))    "
   ]
  },
  {
   "cell_type": "code",
   "execution_count": null,
   "metadata": {},
   "outputs": [],
   "source": [
    "dict(count_of_product)"
   ]
  },
  {
   "cell_type": "code",
   "execution_count": 23,
   "metadata": {},
   "outputs": [],
   "source": [
    "confidence = {\n",
    "    (p1, p2): count / count_of_product[p1] for (p1, p2),\n",
    "    count in count_of_pair.items()\n",
    "}"
   ]
  },
  {
   "cell_type": "code",
   "execution_count": null,
   "metadata": {},
   "outputs": [],
   "source": [
    "confidence"
   ]
  },
  {
   "cell_type": "code",
   "execution_count": 15,
   "metadata": {},
   "outputs": [],
   "source": [
    "def print_asscotiations(min_conf, min_support, orders_list):\n",
    "    len_orders_list = len(orders_list)\n",
    "    for (p1, p2), count in count_of_pair.items():\n",
    "        support = count / len_orders_list \n",
    "        conf = confidence[(p1, p2)]\n",
    "        if conf >= min_conf and support >= min_support:\n",
    "            print(f'{p1} => {p2} ({conf * 100} confidence), {support * 100} support')"
   ]
  },
  {
   "cell_type": "code",
   "execution_count": 30,
   "metadata": {},
   "outputs": [
    {
     "name": "stdout",
     "output_type": "stream",
     "text": [
      "Organic Whole String Cheese => Organic Whole String Cheese (79.77922729553437 confidence), 1.2118071168898474 support\n",
      "Organic Hass Avocado => Organic Hass Avocado (66.94090223501988 confidence), 3.7207813488404 support\n",
      "Bag of Organic Bananas => Bag of Organic Bananas (48.617571059431526 confidence), 5.735887019945278 support\n",
      "Asparagus => Asparagus (98.4488107549121 confidence), 2.902239937809144 support\n",
      "Organic Garnet Sweet Potato (Yam) => Organic Garnet Sweet Potato (Yam) (100.62305295950156 confidence), 1.9693771006562049 support\n",
      "Bunched Cilantro => Bunched Cilantro (94.6875 confidence), 1.3855756845948066 support\n",
      "Organic Blueberries => Organic Blueberries (96.97946033024567 confidence), 3.6704799213468586 support\n",
      "Organic Raspberries => Organic Raspberries (73.20591417237648 confidence), 3.0942999336935726 support\n",
      "Organic Zucchini => Organic Zucchini (95.48921333623883 confidence), 3.3397099284347873 support\n",
      "Organic Yellow Onion => Organic Yellow Onion (87.13286713286713 confidence), 2.8488899389523583 support\n",
      "Organic Italian Parsley Bunch => Organic Italian Parsley Bunch (96.16666666666667 confidence), 1.759025676592307 support\n",
      "Organic Garlic => Organic Garlic (93.6988936988937 confidence), 2.9693085078005317 support\n",
      "Carrots => Carrots (94.673608329996 confidence), 1.8017056756777357 support\n",
      "Organic Strawberries => Organic Strawberries (85.47824490545254 confidence), 7.097074133634125 support\n",
      "Strawberries => Strawberries (84.81675392670157 confidence), 4.197882767188226 support\n",
      "Hass Avocados => Hass Avocados (73.4622144112478 confidence), 1.274302829836368 support\n",
      "Large Lemon => Large Lemon (84.32698217578366 confidence), 5.228299887965003 support\n",
      "Extra Virgin Olive Oil => Extra Virgin Olive Oil (115.08704061895551 confidence), 1.813899961130715 support\n",
      "Broccoli Crown => Broccoli Crown (105.93451568894952 confidence), 2.3672156635596644 support\n",
      "Organic Cucumber => Organic Cucumber (93.17147192716236 confidence), 3.2756899298066444 support\n",
      "Limes => Limes (92.42499585612465 confidence), 4.24970848036339 support\n",
      "Organic Basil => Organic Basil (113.7479541734861 confidence), 1.0593785487276024 support\n",
      "Russet Potato => Russet Potato (97.32016925246828 confidence), 1.0517571203194904 support\n",
      "Organic Lemon => Organic Lemon (86.44793152639087 confidence), 2.3092928076580113 support\n",
      "Organic Carrot Bunch => Organic Carrot Bunch (94.83352468427096 confidence), 1.2590599730201435 support\n",
      "Organic Cilantro => Organic Cilantro (95.17867271695972 confidence), 2.5577513737624704 support\n",
      "Organic Red Bell Pepper => Organic Red Bell Pepper (94.86000835770999 confidence), 1.7300642486414803 support\n",
      "Organic Peeled Whole Baby Carrots => Organic Peeled Whole Baby Carrots (109.34959349593495 confidence), 2.050164241782195 support\n",
      "Apple Honeycrisp Organic => Apple Honeycrisp Organic (92.00710479573712 confidence), 1.579159966160858 support\n",
      "Organic Large Extra Fancy Fuji Apple => Organic Large Extra Fancy Fuji Apple (76.44413697682462 confidence), 1.6843356781928067 support\n",
      "Michigan Organic Kale => Michigan Organic Kale (74.76208602969166 confidence), 1.4968485393532456 support\n",
      "Fresh Cauliflower => Fresh Cauliflower (97.5480950584685 confidence), 1.9709013863378275 support\n",
      "Organic Whole Milk => Organic Whole Milk (56.764466177669114 confidence), 2.123329954500073 support\n",
      "Organic Grape Tomatoes => Organic Grape Tomatoes (102.01412503269684 confidence), 2.972357079163777 support\n",
      "Red Peppers => Red Peppers (94.52667814113597 confidence), 2.0928442408676236 support\n",
      "Organic Baby Broccoli => Organic Baby Broccoli (104.07105847520354 confidence), 1.0715728341805821 support\n",
      "Organic Banana => Organic Banana (65.69468267581475 confidence), 1.1676028321227965 support\n",
      "Clementines, Bag => Clementines, Bag (105.68335588633289 confidence), 1.190467117347133 support\n",
      "Banana => Banana (50.42187333119726 confidence), 7.196152702939584 support\n",
      "Organic Baby Spinach => Organic Baby Spinach (80.335241210139 confidence), 5.990442728776228 support\n",
      "Green Bell Pepper => Green Bell Pepper (100.91233637445458 confidence), 1.938891387023756 support\n",
      "Sparkling Water Grapefruit => Sparkling Water Grapefruit (65.8529324203632 confidence), 1.6858599638744292 support\n",
      "Organic Half & Half => Organic Half & Half (66.66666666666666 confidence), 1.3444199711910005 support\n",
      "100% Whole Wheat Bread => 100% Whole Wheat Bread (76.58833768494343 confidence), 1.3413713998277557 support\n",
      "No Salt Added Black Beans => No Salt Added Black Beans (108.16 confidence), 1.030417120776776 support\n",
      "Garlic => Garlic (93.33333333333333 confidence), 1.365759970733715 support\n",
      "Seedless Red Grapes => Seedless Red Grapes (90.21926582902192 confidence), 2.790967083050705 support\n",
      "Feta Cheese Crumbles => Feta Cheese Crumbles (109.45479641131814 confidence), 1.2087585455266026 support\n",
      "Organic Granny Smith Apple => Organic Granny Smith Apple (84.80958493795464 confidence), 1.5105671104878478 support\n",
      "Organic Ginger Root => Organic Ginger Root (98.85401096163427 confidence), 1.5120913961694702 support\n",
      "Organic Baby Carrots => Organic Baby Carrots (94.8568251320545 confidence), 2.600431372847899 support\n",
      "Original Hummus => Original Hummus (91.3925822253324 confidence), 1.9907171001989192 support\n",
      "Shredded Parmesan => Shredded Parmesan (108.91238670694865 confidence), 1.0990099764497863 support\n",
      "Organic Red Onion => Organic Red Onion (102.82870612886327 confidence), 2.9921727930248685 support\n",
      "Grape White/Green Seedless => Grape White/Green Seedless (91.81401440733464 confidence), 1.0685242628173373 support\n",
      "Organic Lacinato (Dinosaur) Kale => Organic Lacinato (Dinosaur) Kale (81.2038614423623 confidence), 1.0898642623600514 support\n",
      "Cantaloupe => Cantaloupe (109.30041152263374 confidence), 1.0121256925973066 support\n",
      "Raspberries => Raspberries (81.73223543763342 confidence), 2.042542813374083 support\n",
      "Red Onion => Red Onion (94.00544959128065 confidence), 1.0517571203194904 support\n",
      "Boneless Skinless Chicken Breasts => Boneless Skinless Chicken Breasts (89.36781609195403 confidence), 1.4221585409537456 support\n",
      "Organic Baby Arugula => Organic Baby Arugula (95.99726308587067 confidence), 2.1385728113162967 support\n",
      "Honeycrisp Apple => Honeycrisp Apple (83.01886792452831 confidence), 2.2467970947114906 support\n",
      "Organic Broccoli => Organic Broccoli (93.88989715668482 confidence), 1.182845688939021 support\n",
      "Organic Gala Apples => Organic Gala Apples (82.6628693485226 confidence), 1.769695676363664 support\n",
      "Organic Small Bunch Celery => Organic Small Bunch Celery (98.43690430804422 confidence), 1.9678528149745824 support\n",
      "Organic Broccoli Florets => Organic Broccoli Florets (102.86554004408524 confidence), 1.0669999771357148 support\n",
      "Jalapeno Peppers => Jalapeno Peppers (95.73459715639811 confidence), 1.3855756845948066 support\n",
      "Unsalted Butter => Unsalted Butter (98.95470383275261 confidence), 1.0822428339519392 support\n",
      "Red Vine Tomato => Red Vine Tomato (92.39033124440465 confidence), 1.573062823434368 support\n",
      "Unsweetened Almondmilk => Unsweetened Almondmilk (65.37574919317657 confidence), 1.0807185482703168 support\n",
      "Organic Avocado => Organic Avocado (63.73329734107167 confidence), 3.5988384943106038 support\n",
      "Orange Bell Pepper => Orange Bell Pepper (94.52789699570815 confidence), 1.342895685509378 support\n",
      "Organic Navel Orange => Organic Navel Orange (95.05050505050505 confidence), 1.4343528264067251 support\n",
      "Sparkling Natural Mineral Water => Sparkling Natural Mineral Water (74.7642817526345 confidence), 1.027368549413531 support\n",
      "Yellow Onions => Yellow Onions (88.94205209994684 confidence), 2.5501299453543584 support\n",
      "Green Onions => Green Onions (94.53287197231835 confidence), 1.0410871205481331 support\n",
      "Organic Kiwi => Organic Kiwi (90.0 confidence), 1.2895456866525923 support\n",
      "Lime Sparkling Water => Lime Sparkling Water (74.77110885045778 confidence), 1.1203499759925006 support\n",
      "Organic Blackberries => Organic Blackberries (98.34681674287724 confidence), 2.1309513829081848 support\n",
      "Grated Parmesan => Grated Parmesan (108.50059031877213 confidence), 1.4008185414110312 support\n",
      "Organic Fuji Apple => Organic Fuji Apple (74.97697267424009 confidence), 1.861152817261011 support\n",
      "Organic Black Beans => Organic Black Beans (103.80710659898477 confidence), 1.246865687567164 support\n",
      "Uncured Genoa Salami => Uncured Genoa Salami (92.05816554809843 confidence), 1.254487115975276 support\n",
      "Organic Unsweetened Almond Milk => Organic Unsweetened Almond Milk (71.59926470588235 confidence), 1.1874185459838882 support\n",
      "Blueberries => Blueberries (103.57296599225141 confidence), 1.8337156749918069 support\n",
      "Roma Tomato => Roma Tomato (83.66615463389657 confidence), 1.2453414018855413 support\n",
      "Small Hass Avocado => Small Hass Avocado (74.57299387689334 confidence), 1.7635985336371742 support\n",
      "Organic D'Anjou Pears => Organic D'Anjou Pears (94.34759640781827 confidence), 1.3611871136888476 support\n",
      "Organic Tomato Cluster => Organic Tomato Cluster (90.30732860520094 confidence), 1.7468313911393272 support\n",
      "Cucumber Kirby => Cucumber Kirby (80.14919187733113 confidence), 1.4739842541289088 support\n",
      "Half & Half => Half & Half (73.01980198019803 confidence), 1.348992828235868 support\n"
     ]
    }
   ],
   "source": [
    "print_asscotiations(0.25, 0.01, orders)"
   ]
  },
  {
   "cell_type": "code",
   "execution_count": null,
   "metadata": {},
   "outputs": [],
   "source": []
  }
 ],
 "metadata": {
  "kernelspec": {
   "display_name": "Python 3",
   "language": "python",
   "name": "python3"
  },
  "language_info": {
   "codemirror_mode": {
    "name": "ipython",
    "version": 3
   },
   "file_extension": ".py",
   "mimetype": "text/x-python",
   "name": "python",
   "nbconvert_exporter": "python",
   "pygments_lexer": "ipython3",
   "version": "3.10.6"
  },
  "orig_nbformat": 4
 },
 "nbformat": 4,
 "nbformat_minor": 2
}
